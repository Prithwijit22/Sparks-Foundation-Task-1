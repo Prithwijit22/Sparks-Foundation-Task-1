{
  "nbformat": 4,
  "nbformat_minor": 0,
  "metadata": {
    "colab": {
      "name": "Task 1",
      "provenance": [],
      "collapsed_sections": []
    },
    "kernelspec": {
      "name": "python3",
      "display_name": "Python 3"
    },
    "language_info": {
      "name": "python"
    }
  },
  "cells": [
    {
      "cell_type": "markdown",
      "source": [
        "# ***Sparks Foundation (Task 1)***\n",
        "### **Student's performance based on the study hours**"
      ],
      "metadata": {
        "id": "ilhhLUoWkvge"
      }
    },
    {
      "cell_type": "markdown",
      "source": [
        "# **Prithwijit Ghosh**"
      ],
      "metadata": {
        "id": "wpLHIAkRkBem"
      }
    },
    {
      "cell_type": "markdown",
      "source": [
        "It is general intuision that the students grade is too much depended on the number of hours they study. So in this assignment we try to find that wheather it is true or not....\n",
        "\n",
        "So we will try to fit a supervised model, actually simple linear regression, to see the dependency and the model accuracy.\n",
        "Finally we will predict the score if a particular student spend his/her **9.25 hours per day**."
      ],
      "metadata": {
        "id": "DkwbtP5CmjIR"
      }
    },
    {
      "cell_type": "markdown",
      "source": [
        "### **Dataset link and Decription**\n",
        "\n",
        "The link of the dataset as provided is given below -- <br>\n",
        "http://bit.ly/w-data"
      ],
      "metadata": {
        "id": "KJGPs04yqh5r"
      }
    },
    {
      "cell_type": "code",
      "source": [
        "import numpy as np\n",
        "import pandas as pd"
      ],
      "metadata": {
        "id": "-V8TrDEsqdUY"
      },
      "execution_count": null,
      "outputs": []
    },
    {
      "cell_type": "code",
      "source": [
        "D = pd.read_csv(\"/content/student_scores - student_scores.csv\")\n",
        "D.head()"
      ],
      "metadata": {
        "colab": {
          "base_uri": "https://localhost:8080/",
          "height": 206
        },
        "id": "Bazn5QxVrsLV",
        "outputId": "cd355110-500f-498c-c839-3f94c20bc81b"
      },
      "execution_count": null,
      "outputs": [
        {
          "output_type": "execute_result",
          "data": {
            "text/plain": [
              "   Hours  Scores\n",
              "0    2.5      21\n",
              "1    5.1      47\n",
              "2    3.2      27\n",
              "3    8.5      75\n",
              "4    3.5      30"
            ],
            "text/html": [
              "\n",
              "  <div id=\"df-4e6ce0fb-5a37-406c-854d-57fa21da38cf\">\n",
              "    <div class=\"colab-df-container\">\n",
              "      <div>\n",
              "<style scoped>\n",
              "    .dataframe tbody tr th:only-of-type {\n",
              "        vertical-align: middle;\n",
              "    }\n",
              "\n",
              "    .dataframe tbody tr th {\n",
              "        vertical-align: top;\n",
              "    }\n",
              "\n",
              "    .dataframe thead th {\n",
              "        text-align: right;\n",
              "    }\n",
              "</style>\n",
              "<table border=\"1\" class=\"dataframe\">\n",
              "  <thead>\n",
              "    <tr style=\"text-align: right;\">\n",
              "      <th></th>\n",
              "      <th>Hours</th>\n",
              "      <th>Scores</th>\n",
              "    </tr>\n",
              "  </thead>\n",
              "  <tbody>\n",
              "    <tr>\n",
              "      <th>0</th>\n",
              "      <td>2.5</td>\n",
              "      <td>21</td>\n",
              "    </tr>\n",
              "    <tr>\n",
              "      <th>1</th>\n",
              "      <td>5.1</td>\n",
              "      <td>47</td>\n",
              "    </tr>\n",
              "    <tr>\n",
              "      <th>2</th>\n",
              "      <td>3.2</td>\n",
              "      <td>27</td>\n",
              "    </tr>\n",
              "    <tr>\n",
              "      <th>3</th>\n",
              "      <td>8.5</td>\n",
              "      <td>75</td>\n",
              "    </tr>\n",
              "    <tr>\n",
              "      <th>4</th>\n",
              "      <td>3.5</td>\n",
              "      <td>30</td>\n",
              "    </tr>\n",
              "  </tbody>\n",
              "</table>\n",
              "</div>\n",
              "      <button class=\"colab-df-convert\" onclick=\"convertToInteractive('df-4e6ce0fb-5a37-406c-854d-57fa21da38cf')\"\n",
              "              title=\"Convert this dataframe to an interactive table.\"\n",
              "              style=\"display:none;\">\n",
              "        \n",
              "  <svg xmlns=\"http://www.w3.org/2000/svg\" height=\"24px\"viewBox=\"0 0 24 24\"\n",
              "       width=\"24px\">\n",
              "    <path d=\"M0 0h24v24H0V0z\" fill=\"none\"/>\n",
              "    <path d=\"M18.56 5.44l.94 2.06.94-2.06 2.06-.94-2.06-.94-.94-2.06-.94 2.06-2.06.94zm-11 1L8.5 8.5l.94-2.06 2.06-.94-2.06-.94L8.5 2.5l-.94 2.06-2.06.94zm10 10l.94 2.06.94-2.06 2.06-.94-2.06-.94-.94-2.06-.94 2.06-2.06.94z\"/><path d=\"M17.41 7.96l-1.37-1.37c-.4-.4-.92-.59-1.43-.59-.52 0-1.04.2-1.43.59L10.3 9.45l-7.72 7.72c-.78.78-.78 2.05 0 2.83L4 21.41c.39.39.9.59 1.41.59.51 0 1.02-.2 1.41-.59l7.78-7.78 2.81-2.81c.8-.78.8-2.07 0-2.86zM5.41 20L4 18.59l7.72-7.72 1.47 1.35L5.41 20z\"/>\n",
              "  </svg>\n",
              "      </button>\n",
              "      \n",
              "  <style>\n",
              "    .colab-df-container {\n",
              "      display:flex;\n",
              "      flex-wrap:wrap;\n",
              "      gap: 12px;\n",
              "    }\n",
              "\n",
              "    .colab-df-convert {\n",
              "      background-color: #E8F0FE;\n",
              "      border: none;\n",
              "      border-radius: 50%;\n",
              "      cursor: pointer;\n",
              "      display: none;\n",
              "      fill: #1967D2;\n",
              "      height: 32px;\n",
              "      padding: 0 0 0 0;\n",
              "      width: 32px;\n",
              "    }\n",
              "\n",
              "    .colab-df-convert:hover {\n",
              "      background-color: #E2EBFA;\n",
              "      box-shadow: 0px 1px 2px rgba(60, 64, 67, 0.3), 0px 1px 3px 1px rgba(60, 64, 67, 0.15);\n",
              "      fill: #174EA6;\n",
              "    }\n",
              "\n",
              "    [theme=dark] .colab-df-convert {\n",
              "      background-color: #3B4455;\n",
              "      fill: #D2E3FC;\n",
              "    }\n",
              "\n",
              "    [theme=dark] .colab-df-convert:hover {\n",
              "      background-color: #434B5C;\n",
              "      box-shadow: 0px 1px 3px 1px rgba(0, 0, 0, 0.15);\n",
              "      filter: drop-shadow(0px 1px 2px rgba(0, 0, 0, 0.3));\n",
              "      fill: #FFFFFF;\n",
              "    }\n",
              "  </style>\n",
              "\n",
              "      <script>\n",
              "        const buttonEl =\n",
              "          document.querySelector('#df-4e6ce0fb-5a37-406c-854d-57fa21da38cf button.colab-df-convert');\n",
              "        buttonEl.style.display =\n",
              "          google.colab.kernel.accessAllowed ? 'block' : 'none';\n",
              "\n",
              "        async function convertToInteractive(key) {\n",
              "          const element = document.querySelector('#df-4e6ce0fb-5a37-406c-854d-57fa21da38cf');\n",
              "          const dataTable =\n",
              "            await google.colab.kernel.invokeFunction('convertToInteractive',\n",
              "                                                     [key], {});\n",
              "          if (!dataTable) return;\n",
              "\n",
              "          const docLinkHtml = 'Like what you see? Visit the ' +\n",
              "            '<a target=\"_blank\" href=https://colab.research.google.com/notebooks/data_table.ipynb>data table notebook</a>'\n",
              "            + ' to learn more about interactive tables.';\n",
              "          element.innerHTML = '';\n",
              "          dataTable['output_type'] = 'display_data';\n",
              "          await google.colab.output.renderOutput(dataTable, element);\n",
              "          const docLink = document.createElement('div');\n",
              "          docLink.innerHTML = docLinkHtml;\n",
              "          element.appendChild(docLink);\n",
              "        }\n",
              "      </script>\n",
              "    </div>\n",
              "  </div>\n",
              "  "
            ]
          },
          "metadata": {},
          "execution_count": 2
        }
      ]
    },
    {
      "cell_type": "markdown",
      "source": [
        "From the above dataset the first column **Hours** represent the number of hours spend as study hours and **Scores** represent that the scores of each student corresponding to their study hours"
      ],
      "metadata": {
        "id": "l8GePvEar_tY"
      }
    },
    {
      "cell_type": "markdown",
      "source": [
        "### **Exploratory Data Analysis**\n",
        "Let us create some sort of visualization based on our dataset. Here we plot the histograms for both these two variables -- <br>\n",
        "1. Study Hours\n",
        "2. Scores"
      ],
      "metadata": {
        "id": "pkbwIhi7s2vS"
      }
    },
    {
      "cell_type": "code",
      "source": [
        "import matplotlib.pyplot as plt\n",
        "import seaborn as sns\n",
        "%matplotlib inline\n",
        "#plot 1\n",
        "plt.hist(D.Hours,density = True,color = \"darkblue\")\n",
        "plt.xlabel(\"study Hours\")\n",
        "plt.ylabel(\"Frequency\")\n",
        "plt.title(\"Students study hours distribution\")\n",
        "plt.show()\n"
      ],
      "metadata": {
        "colab": {
          "base_uri": "https://localhost:8080/",
          "height": 295
        },
        "id": "3Kc2W4uvsxzW",
        "outputId": "071f5239-fd15-4361-9465-25b0b555fce4"
      },
      "execution_count": null,
      "outputs": [
        {
          "output_type": "display_data",
          "data": {
            "text/plain": [
              "<Figure size 432x288 with 1 Axes>"
            ],
            "image/png": "[encoded data removed]"
          },
          "metadata": {
            "needs_background": "light"
          }
        }
      ]
    },
    {
      "cell_type": "code",
      "source": [
        "#plot 2\n",
        "plt.hist(D.Scores,color = \"green\")\n",
        "plt.xlabel(\"Scores\")\n",
        "plt.ylabel(\"Frequency\")\n",
        "plt.title(\"Students scores distribution\")\n",
        "plt.show()\n"
      ],
      "metadata": {
        "colab": {
          "base_uri": "https://localhost:8080/",
          "height": 295
        },
        "id": "cC-OlAHk6sdK",
        "outputId": "e2b3acfa-b199-4577-ff95-44ab69c7c9cc"
      },
      "execution_count": null,
      "outputs": [
        {
          "output_type": "display_data",
          "data": {
            "text/plain": [
              "<Figure size 432x288 with 1 Axes>"
            ],
            "image/png": "[encoded data removed]"
          },
          "metadata": {
            "needs_background": "light"
          }
        }
      ]
    },
    {
      "cell_type": "markdown",
      "source": [
        "From the above two histograms we can't say anything about the distribution of the corresponding variables, because the distribution is not similar to any of the known statistical distribution."
      ],
      "metadata": {
        "id": "bGCETiy8-7Yr"
      }
    },
    {
      "cell_type": "markdown",
      "source": [
        "Now wev plot the scatterplot among these variables."
      ],
      "metadata": {
        "id": "ACClDSJdTQQa"
      }
    },
    {
      "cell_type": "code",
      "source": [
        "plt.scatter(D.Hours,D.Scores)\n",
        "plt.xlabel(\"Study Hours\")\n",
        "plt.ylabel(\"Scores\")\n",
        "plt.title(\"Scatterplot between Study Hours and Scores\")\n",
        "plt.show()"
      ],
      "metadata": {
        "colab": {
          "base_uri": "https://localhost:8080/",
          "height": 295
        },
        "id": "v_u3-6mpTgIh",
        "outputId": "74d7eff8-9c13-4c15-c8f8-d2f4c681334d"
      },
      "execution_count": null,
      "outputs": [
        {
          "output_type": "display_data",
          "data": {
            "text/plain": [
              "<Figure size 432x288 with 1 Axes>"
            ],
            "image/png": "[encoded data removed]"
          },
          "metadata": {
            "needs_background": "light"
          }
        }
      ]
    },
    {
      "cell_type": "markdown",
      "source": [
        "From the above scatterplot it is very clear that the variable study Hours is almost pefectly linearly dependent on the variable Scores."
      ],
      "metadata": {
        "id": "NcHAtuZw_wzz"
      }
    },
    {
      "cell_type": "markdown",
      "source": [
        "**Boxplots for an easy Visualization**\n"
      ],
      "metadata": {
        "id": "ul4oUVf9UVHC"
      }
    },
    {
      "cell_type": "code",
      "source": [
        "D.plot.box(color = \"darkviolet\")\n",
        "plt.title(\"Simultaneous boxplots for Study Hours and Scores\")\n",
        "plt.show()"
      ],
      "metadata": {
        "colab": {
          "base_uri": "https://localhost:8080/",
          "height": 281
        },
        "id": "WNxkHAMDUb03",
        "outputId": "b3d5b65f-00b4-4c6e-dd5e-2a5efbfbea9a"
      },
      "execution_count": null,
      "outputs": [
        {
          "output_type": "display_data",
          "data": {
            "text/plain": [
              "<Figure size 432x288 with 1 Axes>"
            ],
            "image/png": "[encoded data removed]"
          },
          "metadata": {
            "needs_background": "light"
          }
        }
      ]
    },
    {
      "cell_type": "markdown",
      "source": [
        "From the above boxplot we can say that <br>\n",
        "\n",
        "1.   The **median** is nearly in the middle position for both of these two variables indicating that the distributions are nearly **symmetrical** for both of them.\n",
        "2.   There are no **outlier** for any of the variables, thay are quite balance from the inferencial perspective.\n",
        "3.   The **sparsity** of these two distributions are not the same.Looking at the InterQuartile Range it is fairly obvious tht IQR for **Scores** is nearly 5 times the IQR for **Hours**.\n",
        "\n"
      ],
      "metadata": {
        "id": "Zc1edUxrAhux"
      }
    },
    {
      "cell_type": "markdown",
      "source": [
        "**Jointplot**\n"
      ],
      "metadata": {
        "id": "mm3yRhXBWnep"
      }
    },
    {
      "cell_type": "code",
      "source": [
        "sns.pairplot(D)\n",
        "plt.show()"
      ],
      "metadata": {
        "colab": {
          "base_uri": "https://localhost:8080/",
          "height": 374
        },
        "id": "8ZPNi2CAWpa1",
        "outputId": "896bcca6-ab5f-477c-a04c-e69f27b11aa3"
      },
      "execution_count": null,
      "outputs": [
        {
          "output_type": "display_data",
          "data": {
            "text/plain": [
              "<Figure size 360x360 with 6 Axes>"
            ],
            "image/png": "[encoded data removed]"
          },
          "metadata": {
            "needs_background": "light"
          }
        }
      ]
    },
    {
      "cell_type": "code",
      "source": [
        "sns.jointplot(D.Hours,D.Scores,color = \"pink\")\n",
        "plt.show()"
      ],
      "metadata": {
        "colab": {
          "base_uri": "https://localhost:8080/",
          "height": 496
        },
        "id": "2s6mMmPpXXXp",
        "outputId": "b504c216-6231-4146-ec1f-9ee73f45ef6e"
      },
      "execution_count": null,
      "outputs": [
        {
          "output_type": "stream",
          "name": "stderr",
          "text": [
            "/usr/local/lib/python3.7/dist-packages/seaborn/_decorators.py:43: FutureWarning: Pass the following variables as keyword args: x, y. From version 0.12, the only valid positional argument will be `data`, and passing other arguments without an explicit keyword will result in an error or misinterpretation.\n",
            "  FutureWarning\n"
          ]
        },
        {
          "output_type": "display_data",
          "data": {
            "text/plain": [
              "<Figure size 432x432 with 3 Axes>"
            ],
            "image/png": "[encoded data removed]"
          },
          "metadata": {
            "needs_background": "light"
          }
        }
      ]
    },
    {
      "cell_type": "markdown",
      "source": [
        "### **Test For Regression**\n",
        "It is necessary to test wheather the regression is valid or not i.e. wheather Study Hours has any impact on the response variable Scores.\n",
        "so, we want to test --<br>\n",
        "\n",
        "\n",
        "---\n",
        "$$H_0 : \\beta_1 = 0\\ \\ \\ \\ \\ \\ vs \\ \\ \\ \\ \\ H_1 : \\beta_1 \\neq 0$$\n",
        "\n",
        "Let us define the test statistic -- <br>\n",
        "$\\ \\ \\ \\ \\  \\ \\ \\ \\  T = \\frac{\\hat\\beta_1\\ -\\ \\beta_1}{sd(\\hat\\beta_1)}$\n",
        "\n",
        "Under the Null Hypothesis($H_0$) we know that $T$ follows a noraml distribution with mean $\\hat \\beta_1$ and variance $\\frac{S_{xy}}{S_{xx}}$(after the assumption that the random error component follows a normal distribution with mean 0 and variance $\\sigma^2$).\n",
        "\n",
        "So we can test the above hypothesis based on the rejection criterion i.e.<br>\n",
        "\n",
        "$\\ \\ \\ \\ \\ if\\ \\ \\ \\ \\ \\  |T|\\ >\\ \\tau_{\\frac{\\alpha}{2}} \\ \\ \\ \\ \\ reject \\ \\  H_0$<br>\n",
        "$\\ \\ \\ \\ \\ else\\ \\ \\ \\ \\ \\ accept \\ \\ H_0$<br>\n",
        "\n",
        "Where<br>\n",
        " $\\alpha$ is the level of significance (in our case it 0.05)<br>\n",
        " and $\\tau_{\\frac{\\alpha}{2}}$ is the $\\frac{\\alpha}{2}$th percentile point of a standard normal distrinution. \n"
      ],
      "metadata": {
        "id": "6hSrPz5DeQ4a"
      }
    },
    {
      "cell_type": "code",
      "source": [
        "Cov = np.cov(D.Hours,D.Scores)\n",
        "S_xy = Cov[1,0]\n",
        "S_xx = np.var(D.Hours)"
      ],
      "metadata": {
        "id": "yC6gM3rDeY7y"
      },
      "execution_count": null,
      "outputs": []
    },
    {
      "cell_type": "code",
      "source": [
        "sd_beta1 = np.sqrt(S_xy/S_xx)\n",
        "t = (beta1 - 0)/sd_beta1\n",
        "if (abs(t) > scipy.stats.norm.ppf(0.975)):\n",
        "  print(\"The Null Hypothesis is rejected at 5% level of significance\")\n",
        "else:\n",
        "  print(\"The Null Hypothesis is accepted at 5% level of significance\")"
      ],
      "metadata": {
        "colab": {
          "base_uri": "https://localhost:8080/"
        },
        "outputId": "b9cac08f-ca47-46c2-e6aa-40127fe88094",
        "id": "BW3ksPUkefBn"
      },
      "execution_count": null,
      "outputs": [
        {
          "output_type": "stream",
          "name": "stdout",
          "text": [
            "The Null Hypothesis is rejected at 5% level of significance\n"
          ]
        }
      ]
    },
    {
      "cell_type": "markdown",
      "source": [
        "Since the Null Hypothesis ($H_0$) is rejected so oue regression modelling is valid and we can proceed with our further analysis."
      ],
      "metadata": {
        "id": "JzNqvxTMI2Ei"
      }
    },
    {
      "cell_type": "markdown",
      "source": [
        "### **Model fitting and evaluation**\n",
        "Here we will fit a linear regression model with only one regressor as **Study Hours** and the response variable is **Scores**, i.e. it is a simple linear regression model.\n",
        "\n",
        "So, we will fit a straight line and we have to estimate the intercept and the slope parameter based on the given data."
      ],
      "metadata": {
        "id": "_uwtvfMbYShw"
      }
    },
    {
      "cell_type": "code",
      "source": [
        "from sklearn.linear_model import LinearRegression \n",
        "import scipy.stats"
      ],
      "metadata": {
        "id": "pb1mk-O8YzPl"
      },
      "execution_count": null,
      "outputs": []
    },
    {
      "cell_type": "code",
      "source": [
        "X = D.Hours\n",
        "y = D.Scores\n",
        "X = X[:,np.newaxis]"
      ],
      "metadata": {
        "colab": {
          "base_uri": "https://localhost:8080/"
        },
        "id": "Mp0KcvO_Z14z",
        "outputId": "bf052f95-1e23-44b0-bd8f-a01c1ed7bbc9"
      },
      "execution_count": null,
      "outputs": [
        {
          "output_type": "stream",
          "name": "stderr",
          "text": [
            "/usr/local/lib/python3.7/dist-packages/ipykernel_launcher.py:3: FutureWarning: Support for multi-dimensional indexing (e.g. `obj[:, None]`) is deprecated and will be removed in a future version.  Convert to a numpy array before indexing instead.\n",
            "  This is separate from the ipykernel package so we can avoid doing imports until\n"
          ]
        }
      ]
    },
    {
      "cell_type": "code",
      "source": [
        "Model = LinearRegression(fit_intercept = True)\n",
        "Model.fit(X,y)\n",
        "beta1 = Model.coef_\n",
        "print(\"Coefficient Corresponding to Study Hours is :\",beta1)\n",
        "beta0 = Model.intercept_\n",
        "print(\"Coefficient Corresponding to Study Hours is :\",beta0)"
      ],
      "metadata": {
        "colab": {
          "base_uri": "https://localhost:8080/"
        },
        "id": "R7aMQhTeZbCB",
        "outputId": "1486dcb4-18e0-46b2-bbaa-841074c60409"
      },
      "execution_count": null,
      "outputs": [
        {
          "output_type": "stream",
          "name": "stdout",
          "text": [
            "Coefficient Corresponding to Study Hours is : [9.77580339]\n",
            "Coefficient Corresponding to Study Hours is : 2.48367340537321\n"
          ]
        }
      ]
    },
    {
      "cell_type": "markdown",
      "source": [
        "### **Residual plot**"
      ],
      "metadata": {
        "id": "NW29iVq1xbE3"
      }
    },
    {
      "cell_type": "code",
      "source": [
        "y_predicted = Model.predict(X)\n",
        "residual = y - y_predicted\n",
        "plt.scatter(np.arange(len(y)),residual)\n",
        "plt.plot(np.arange(len(y)),residual,linewidth = 2,color = \"red\")\n",
        "plt.xlabel(\"x\")\n",
        "plt.ylabel(\"Residuals\")\n",
        "plt.title(\"Residual Plot\")\n",
        "plt.show()"
      ],
      "metadata": {
        "colab": {
          "base_uri": "https://localhost:8080/",
          "height": 295
        },
        "id": "zqRCxcqlxZ35",
        "outputId": "825a7695-6453-45bc-bb49-5c179cc13e8b"
      },
      "execution_count": null,
      "outputs": [
        {
          "output_type": "display_data",
          "data": {
            "text/plain": [
              "<Figure size 432x288 with 1 Axes>"
            ],
            "image/png": "[encoded data removed]"
          },
          "metadata": {
            "needs_background": "light"
          }
        }
      ]
    },
    {
      "cell_type": "markdown",
      "source": [
        "From the above residual plot we can say that there seems to no pattern in the plot, so the residual plot is overall random and the model looks like perfect in the residual analysis points of view."
      ],
      "metadata": {
        "id": "jj7O0WVLDKob"
      }
    },
    {
      "cell_type": "markdown",
      "source": [
        "### **Model Accuracy Checking**"
      ],
      "metadata": {
        "id": "RDLVdmsEyudR"
      }
    },
    {
      "cell_type": "code",
      "source": [
        "from sklearn.metrics import r2_score\n",
        "R_squared = r2_score(y,y_predicted)\n",
        "print(\"So, The R squared value for this given model is :\",R_squared)"
      ],
      "metadata": {
        "colab": {
          "base_uri": "https://localhost:8080/"
        },
        "id": "m3CeO05sxZ71",
        "outputId": "9e659df6-8f5d-4d50-c3e3-d3be352ee09f"
      },
      "execution_count": null,
      "outputs": [
        {
          "output_type": "stream",
          "name": "stdout",
          "text": [
            "So, The R squared value for this given model is : 0.9529481969048356\n"
          ]
        }
      ]
    },
    {
      "cell_type": "markdown",
      "source": [
        "We know that the $R^2$ value indiactes that how much does the model fit data or in other words how much the variance in the response variable captured by the model...<br>\n",
        "In our model we see that the $R^2$ value is 0.9529, shows that the model perfectly explains approximately 95% of the total variability."
      ],
      "metadata": {
        "id": "1rAHSiNPEtOh"
      }
    },
    {
      "cell_type": "code",
      "source": [
        "Adj_R_squared = 1 - ((1 - R_squared)*(len(y)-1)/(len(y) - 2))\n",
        "print(\"So, The adjusted R squared value for this given model is :\",Adj_R_squared)"
      ],
      "metadata": {
        "colab": {
          "base_uri": "https://localhost:8080/"
        },
        "id": "tqVO8Gq11wXV",
        "outputId": "d69a8766-c2e0-4dad-c6b1-95b2c69fd8c2"
      },
      "execution_count": null,
      "outputs": [
        {
          "output_type": "stream",
          "name": "stdout",
          "text": [
            "So, The adjusted R squared value for this given model is : 0.9509024663354806\n"
          ]
        }
      ]
    },
    {
      "cell_type": "markdown",
      "source": [
        "Though $R^2$ is very much explinable for regression analysis but it has a serios drawback that it depends on the number of regressor variables and increases with increasing feature.\n",
        "\n",
        "So instead of using the $R^2$ value here we would choose another very important measure of accuracy, $adjusted\\ R^2$.\n",
        "Mathematically,\n",
        "$$adjusted\\ R^2\\ =\\ 1\\ -\\ (1\\ -\\ R^2)\\frac{n\\ -\\ 1}{n\\ -\\ k\\ -\\ 1}$$\n",
        "where <br>\n",
        "n = number of observations<br>\n",
        "k = number of predictors<br>\n",
        "in our case k = 1.<br>\n",
        "<br>\n",
        "<br>\n",
        "For our model we see that the $adjusted\\ R^2$ is 0.9509, so it is not too much different with adjusted $R^2$. So we can safely conclude that the simple linear regression model for our given scenario is a good choice."
      ],
      "metadata": {
        "id": "_3_TWaYlDpv1"
      }
    },
    {
      "cell_type": "code",
      "source": [
        "with sns.axes_style(\"white\"):\n",
        "  sns.jointplot(x = D.Hours, y = D.Scores, kind = \"reg\",color = \"darkorange\")\n",
        "\n",
        "plt.show()\n"
      ],
      "metadata": {
        "colab": {
          "base_uri": "https://localhost:8080/",
          "height": 441
        },
        "id": "o_dXBX56rIij",
        "outputId": "2e2f7913-6c97-4561-d014-7b549b9f45d6"
      },
      "execution_count": null,
      "outputs": [
        {
          "output_type": "display_data",
          "data": {
            "text/plain": [
              "<Figure size 432x432 with 3 Axes>"
            ],
            "image/png": "[encoded data removed]"
          },
          "metadata": {}
        }
      ]
    },
    {
      "cell_type": "markdown",
      "source": [
        "### **Prediction**\n",
        "\n",
        "Now we are able to predict the **Score** of a particular student if he/she studies **9.25 hours** daily"
      ],
      "metadata": {
        "id": "-byRk5Byu4KN"
      }
    },
    {
      "cell_type": "code",
      "source": [
        "predict_x = 9.25\n",
        "predict_y = beta0 + beta1*predict_x\n",
        "predict_y"
      ],
      "metadata": {
        "colab": {
          "base_uri": "https://localhost:8080/"
        },
        "id": "4PaPN7Q1vTMP",
        "outputId": "25cab0ff-4d12-4c1d-f31b-6ecfb6b2c02a"
      },
      "execution_count": null,
      "outputs": [
        {
          "output_type": "execute_result",
          "data": {
            "text/plain": [
              "array([92.90985477])"
            ]
          },
          "metadata": {},
          "execution_count": 18
        }
      ]
    },
    {
      "cell_type": "code",
      "source": [
        "plt.scatter(D.Hours,D.Scores,label = \"Train Data\")\n",
        "plt.plot(D.Hours,beta0 + beta1*D.Hours, label = \"Regression Line\",color = \"orange\")\n",
        "plt.scatter(predict_x,predict_y,color = \"red\",label = \"Predicted Point\")\n",
        "plt.legend()\n",
        "plt.xlabel(\"Study Hours\")\n",
        "plt.ylabel(\"Scores\")\n",
        "plt.title(\"Scatterplot with regression line between Study Hours and Scores\")\n",
        "plt.show()"
      ],
      "metadata": {
        "colab": {
          "base_uri": "https://localhost:8080/",
          "height": 295
        },
        "id": "Kcmgn3dOvzsE",
        "outputId": "4dddac50-0afe-4e41-e0e1-64dee740a639"
      },
      "execution_count": null,
      "outputs": [
        {
          "output_type": "display_data",
          "data": {
            "text/plain": [
              "<Figure size 432x288 with 1 Axes>"
            ],
            "image/png": "[encoded data removed]"
          },
          "metadata": {
            "needs_background": "light"
          }
        }
      ]
    },
    {
      "cell_type": "markdown",
      "source": [
        "As the above two blocks show that the prediction of **Scores** when it is given that the **Study Hours** is **9.25** is 92.9098 or nearly **93%**. The above plot shows that point graphically. Since we can predict **short term prediction** by the linear regression model and also the accuracy of our regression model is nearly **95%** hence our prediction for the point 9.25 is approxiemately accurate."
      ],
      "metadata": {
        "id": "mVxcnLW9JOiD"
      }
    }
  ]
}